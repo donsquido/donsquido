{
  "nbformat": 4,
  "nbformat_minor": 0,
  "metadata": {
    "colab": {
      "provenance": [],
      "authorship_tag": "ABX9TyOkdVzGPLD0LofDoN9M76Gf",
      "include_colab_link": true
    },
    "kernelspec": {
      "name": "python3",
      "display_name": "Python 3"
    },
    "language_info": {
      "name": "python"
    }
  },
  "cells": [
    {
      "cell_type": "markdown",
      "metadata": {
        "id": "view-in-github",
        "colab_type": "text"
      },
      "source": [
        "<a href=\"https://colab.research.google.com/github/donsquido/donsquido/blob/main/PythonDataFramePractise.ipynb\" target=\"_parent\"><img src=\"https://colab.research.google.com/assets/colab-badge.svg\" alt=\"Open In Colab\"/></a>"
      ]
    },
    {
      "cell_type": "code",
      "execution_count": 1,
      "metadata": {
        "colab": {
          "base_uri": "https://localhost:8080/"
        },
        "id": "v7sYLSxcaTYY",
        "outputId": "33dac32f-f277-46f3-b987-a68f18f8cd4c"
      },
      "outputs": [
        {
          "output_type": "stream",
          "name": "stdout",
          "text": [
            "      Name  Age         City\n",
            "0    Alice   25     New York\n",
            "1      Bob   30  Los Angeles\n",
            "2  Charlie   35      Chicago\n",
            "3    David   28      Houston\n"
          ]
        }
      ],
      "source": [
        "#CUSTOMER DATA ANALYSIS PRACTISE\n",
        "\n",
        "import pandas as pd\n",
        "data = {'Name': ['Alice', 'Bob', 'Charlie', 'David'],\n",
        "'Age': [25, 30, 35, 28],\n",
        "'City': ['New York', 'Los Angeles', 'Chicago', 'Houston']}\n",
        "# Create a DataFrame from a dictionary\n",
        "df = pd.DataFrame(data)\n",
        "print(df)"
      ]
    },
    {
      "cell_type": "code",
      "source": [
        "#Adding a new column:\n",
        "\n",
        "\n",
        "import pandas as pd\n",
        "data = {'Name': ['Alice', 'Bob', 'Charlie', 'David'],\n",
        "'Age': [25, 30, 35, 28]}\n",
        "df = pd.DataFrame(data)\n",
        "print(\"Before Adding Column\")\n",
        "print(df)\n",
        "# Add a new column \"City\" with values\n",
        "df['City'] = ['New York', 'Los Angeles', 'Chicago', 'Houston']\n",
        "print(\"After Adding Column\")\n",
        "print(df)"
      ],
      "metadata": {
        "colab": {
          "base_uri": "https://localhost:8080/"
        },
        "id": "l-pB8vo5arPJ",
        "outputId": "fa7f0d5a-3897-4222-87b4-16d549e3d709"
      },
      "execution_count": 2,
      "outputs": [
        {
          "output_type": "stream",
          "name": "stdout",
          "text": [
            "Before Adding Column\n",
            "      Name  Age\n",
            "0    Alice   25\n",
            "1      Bob   30\n",
            "2  Charlie   35\n",
            "3    David   28\n",
            "After Adding Column\n",
            "      Name  Age         City\n",
            "0    Alice   25     New York\n",
            "1      Bob   30  Los Angeles\n",
            "2  Charlie   35      Chicago\n",
            "3    David   28      Houston\n"
          ]
        }
      ]
    },
    {
      "cell_type": "code",
      "source": [
        "#Adding multiple columns:\n",
        "\n",
        "\n",
        "import pandas as pd\n",
        "# Create an initial DataFrame\n",
        "data = {'Name': ['Alice', 'Bob', 'Charlie', 'David'],\n",
        "'Age': [25, 30, 35, 28],\n",
        "'City': ['New York', 'Los Angeles', 'Chicago', 'Houston']}\n",
        "df = pd.DataFrame(data)\n",
        "# Display the initial DataFrame\n",
        "print(\"Initial DataFrame:\")\n",
        "print(df)\n",
        "# Create data for the new columns\n",
        "new_columns = {\n",
        "'Gender': ['Female', 'Male', 'Male', 'Male'],\n",
        "'Grade': ['A', 'B', 'C', 'B']\n",
        "}\n",
        "# Add the new columns to the DataFrame\n",
        "df['Gender'] = new_columns['Gender']\n",
        "df['Grade'] = new_columns['Grade']\n",
        "# Display the DataFrame with the new columns\n",
        "print(\"\\nDataFrame after adding new columns:\")\n",
        "print(df)"
      ],
      "metadata": {
        "colab": {
          "base_uri": "https://localhost:8080/"
        },
        "id": "pTjnOLTAbBCc",
        "outputId": "e7861798-f7cb-4abd-ca0b-1665279cec3b"
      },
      "execution_count": 3,
      "outputs": [
        {
          "output_type": "stream",
          "name": "stdout",
          "text": [
            "Initial DataFrame:\n",
            "      Name  Age         City\n",
            "0    Alice   25     New York\n",
            "1      Bob   30  Los Angeles\n",
            "2  Charlie   35      Chicago\n",
            "3    David   28      Houston\n",
            "\n",
            "DataFrame after adding new columns:\n",
            "      Name  Age         City  Gender Grade\n",
            "0    Alice   25     New York  Female     A\n",
            "1      Bob   30  Los Angeles    Male     B\n",
            "2  Charlie   35      Chicago    Male     C\n",
            "3    David   28      Houston    Male     B\n"
          ]
        }
      ]
    },
    {
      "cell_type": "code",
      "source": [
        "#Adding a column at a specific inde\n",
        "\n",
        "import pandas as pd\n",
        "# Create an initial DataFrame\n",
        "data = {'Name': ['Alice', 'Bob', 'Charlie', 'David'],\n",
        "'Age': [25, 30, 35, 28],\n",
        "'City': ['New York', 'Los Angeles', 'Chicago', 'Houston']}\n",
        "df = pd.DataFrame(data)\n",
        "# Display the initial DataFrame\n",
        "print(\"Initial DataFrame:\")\n",
        "print(df)\n",
        "# Create data for the new column\n",
        "new_column = ['Female', 'Male', 'Male', 'Male']\n",
        "# Define the name and index where you want to insert the new colu\n",
        "new_column_name = 'Gender'\n",
        "insert_index = 1 # Insert as the second column (index 1)\n",
        "# Insert the new column at the specified locati\n",
        "df.insert(insert_index, new_column_name, new_column)\n",
        "# Display the DataFrame with the new column\n",
        "print(\"\\nDataFrame after adding the new column:\")\n",
        "print(df)"
      ],
      "metadata": {
        "colab": {
          "base_uri": "https://localhost:8080/"
        },
        "id": "EPLdNqn-bJuC",
        "outputId": "ce13fb40-eac1-470e-d368-adeda323ae5d"
      },
      "execution_count": 4,
      "outputs": [
        {
          "output_type": "stream",
          "name": "stdout",
          "text": [
            "Initial DataFrame:\n",
            "      Name  Age         City\n",
            "0    Alice   25     New York\n",
            "1      Bob   30  Los Angeles\n",
            "2  Charlie   35      Chicago\n",
            "3    David   28      Houston\n",
            "\n",
            "DataFrame after adding the new column:\n",
            "      Name  Gender  Age         City\n",
            "0    Alice  Female   25     New York\n",
            "1      Bob    Male   30  Los Angeles\n",
            "2  Charlie    Male   35      Chicago\n",
            "3    David    Male   28      Houston\n"
          ]
        }
      ]
    },
    {
      "cell_type": "code",
      "source": [
        "#Adding a New Row:\n",
        "\n",
        "\n",
        "import pandas as pd\n",
        "# Create an initial DataFrame\n",
        "data = {'Name': ['Alice', 'Bob', 'Charlie', 'David'],\n",
        "'Age': [25, 30, 35, 28],\n",
        "'City': ['New York', 'Los Angeles', 'Chicago', 'Houston']}\n",
        "df = pd.DataFrame(data)\n",
        "# Display the initial DataFrame\n",
        "print(\"Initial DataFrame:\")\n",
        "print(df)\n",
        "# Create data for the new row\n",
        "new_row = pd.DataFrame([{'Name': 'Eve', 'Age': 24, 'City': 'San Francisco'}])\n",
        "#now we are adding a row at the end of the DataFrame\n",
        "df = pd.concat([df, new_row], ignore_index=True)\n",
        "# Display the DataFrame with the new row\n",
        "print(\"\\nDataFrame after adding a new row:\")\n",
        "print(df)"
      ],
      "metadata": {
        "colab": {
          "base_uri": "https://localhost:8080/"
        },
        "id": "bmSXcE8HbefM",
        "outputId": "2bee0fa4-b372-4502-cd9e-5066499cf812"
      },
      "execution_count": 5,
      "outputs": [
        {
          "output_type": "stream",
          "name": "stdout",
          "text": [
            "Initial DataFrame:\n",
            "      Name  Age         City\n",
            "0    Alice   25     New York\n",
            "1      Bob   30  Los Angeles\n",
            "2  Charlie   35      Chicago\n",
            "3    David   28      Houston\n",
            "\n",
            "DataFrame after adding a new row:\n",
            "      Name  Age           City\n",
            "0    Alice   25       New York\n",
            "1      Bob   30    Los Angeles\n",
            "2  Charlie   35        Chicago\n",
            "3    David   28        Houston\n",
            "4      Eve   24  San Francisco\n"
          ]
        }
      ]
    },
    {
      "cell_type": "code",
      "source": [
        "#Adding multiple new rows:\n",
        "\n",
        "\n",
        "import pandas as pd\n",
        "# Create an initial DataFrame\n",
        "data = {'Name': ['Alice', 'Bob', 'Charlie', 'David'],\n",
        "'Age': [25, 30, 35, 28],\n",
        "'City': ['New York', 'Los Angeles', 'Chicago', 'Houston']}\n",
        "df = pd.DataFrame(data)\n",
        "# Display the initial DataFrame\n",
        "print(\"Initial DataFrame:\")\n",
        "print(df)\n",
        "# Create data for the new rows\n",
        "new_rows = pd.DataFrame([\n",
        "{'Name': 'Eve', 'Age': 24, 'City': 'San Francisco'},\n",
        "{'Name': 'Frank', 'Age': 32, 'City': 'Miami'},\n",
        "{'Name': 'Grace', 'Age': 29, 'City': 'Seattle'}\n",
        "])\n",
        "df = pd.concat([df, new_rows], ignore_index=True)\n",
        "# Display the DataFrame with the new rows\n",
        "print(\"\\nDataFrame after adding new rows:\")\n",
        "print(df)"
      ],
      "metadata": {
        "colab": {
          "base_uri": "https://localhost:8080/"
        },
        "id": "dJFOvncOcEzn",
        "outputId": "fd59a906-7cdb-4092-ea9c-b7dc90b9e898"
      },
      "execution_count": 6,
      "outputs": [
        {
          "output_type": "stream",
          "name": "stdout",
          "text": [
            "Initial DataFrame:\n",
            "      Name  Age         City\n",
            "0    Alice   25     New York\n",
            "1      Bob   30  Los Angeles\n",
            "2  Charlie   35      Chicago\n",
            "3    David   28      Houston\n",
            "\n",
            "DataFrame after adding new rows:\n",
            "      Name  Age           City\n",
            "0    Alice   25       New York\n",
            "1      Bob   30    Los Angeles\n",
            "2  Charlie   35        Chicago\n",
            "3    David   28        Houston\n",
            "4      Eve   24  San Francisco\n",
            "5    Frank   32          Miami\n",
            "6    Grace   29        Seattle\n"
          ]
        }
      ]
    },
    {
      "cell_type": "code",
      "source": [
        "#Adding a new row at a specific index\n",
        "\n",
        "import pandas as pd\n",
        "# Create an initial DataFrame\n",
        "data = {'Name': ['Alice', 'Bob', 'Charlie', 'David'],\n",
        "'Age': [25, 30, 35, 28],\n",
        "'City': ['New York', 'Los Angeles', 'Chicago', 'Houston']}\n",
        "df = pd.DataFrame(data)\n",
        "# Display the initial DataFrame\n",
        "print(\"Initial DataFrame:\")\n",
        "print(df)\n",
        "# Create data for the new row\n",
        "new_row = {'Name': 'Eve', 'Age': 24, 'City': 'San Francisco'}\n",
        "# Define the index where you want to insert the new r\n",
        "insert_index = 1.5 # This will actually insert at index 2\n",
        "# Insert the new row at the specified locati\n",
        "df.loc[insert_index]=new_row\n",
        "df = df.sort_index().reset_index(drop=True)\n",
        "# Display the DataFrame with the new row inserted\n",
        "print(\"\\nDataFrame after adding a new row:\")\n",
        "print(df)"
      ],
      "metadata": {
        "colab": {
          "base_uri": "https://localhost:8080/"
        },
        "id": "J4CmtmX1cRa0",
        "outputId": "186a5f1f-c8e5-4ee1-e809-65b0367d60cc"
      },
      "execution_count": 7,
      "outputs": [
        {
          "output_type": "stream",
          "name": "stdout",
          "text": [
            "Initial DataFrame:\n",
            "      Name  Age         City\n",
            "0    Alice   25     New York\n",
            "1      Bob   30  Los Angeles\n",
            "2  Charlie   35      Chicago\n",
            "3    David   28      Houston\n",
            "\n",
            "DataFrame after adding a new row:\n",
            "      Name  Age           City\n",
            "0    Alice   25       New York\n",
            "1      Bob   30    Los Angeles\n",
            "2      Eve   24  San Francisco\n",
            "3  Charlie   35        Chicago\n",
            "4    David   28        Houston\n"
          ]
        }
      ]
    },
    {
      "cell_type": "code",
      "source": [
        " #Updating a single column:\n",
        "\n",
        "#create a dictionary\n",
        "import pandas as pd\n",
        "fruit_data = {\"Fruit\": ['Apple','Avacado','Banana','Strawberry','Grape'],\"Color\":\n",
        "['Red','Green','Yellow','Pink','Green'],\n",
        "\"Price\": [45, 90, 60, 37, 49]\n",
        "}\n",
        "#Dataframe\n",
        "data = pd.DataFrame(fruit_data)\n",
        "print(\"Before Updating Column\")\n",
        "print(data)\n",
        "#update the column name\n",
        "data=data.rename(columns = {'Fruit':'Fruit Name'})\n",
        "print(\"After Updating Column\")\n",
        "print(data)"
      ],
      "metadata": {
        "colab": {
          "base_uri": "https://localhost:8080/"
        },
        "id": "yE1MJp4ecoOd",
        "outputId": "c8dda059-c301-4091-9617-3319fc4c6f4b"
      },
      "execution_count": 8,
      "outputs": [
        {
          "output_type": "stream",
          "name": "stdout",
          "text": [
            "Before Updating Column\n",
            "        Fruit   Color  Price\n",
            "0       Apple     Red     45\n",
            "1     Avacado   Green     90\n",
            "2      Banana  Yellow     60\n",
            "3  Strawberry    Pink     37\n",
            "4       Grape   Green     49\n",
            "After Updating Column\n",
            "   Fruit Name   Color  Price\n",
            "0       Apple     Red     45\n",
            "1     Avacado   Green     90\n",
            "2      Banana  Yellow     60\n",
            "3  Strawberry    Pink     37\n",
            "4       Grape   Green     49\n"
          ]
        }
      ]
    },
    {
      "cell_type": "code",
      "source": [
        "#Updating multiple columns:\n",
        "\n",
        "#create a dictionary\n",
        "import pandas as pd\n",
        "fruit_data = {\"Fruit\": ['Apple','Avacado','Banana','Strawberry','Grape'],\"Color\":\n",
        "['Red','Green','Yellow','Pink','Green'],\n",
        "\"Price\": [45, 90, 60, 37, 49]\n",
        "}\n",
        "#Dataframe\n",
        "data = pd.DataFrame(fruit_data)\n",
        "print(\"Before Updating Column\")\n",
        "print(data)\n",
        "#update the Multiple column name\n",
        "data=data.rename(columns = {'Fruit':'Fruit Name','Colour':'Color','Price':'Cost'})\n",
        "print(\"After Updating Column\")\n",
        "print(data)\n"
      ],
      "metadata": {
        "colab": {
          "base_uri": "https://localhost:8080/"
        },
        "id": "LzduYSG3cyfU",
        "outputId": "1d0227aa-690a-4fa6-f175-98720dba4221"
      },
      "execution_count": 9,
      "outputs": [
        {
          "output_type": "stream",
          "name": "stdout",
          "text": [
            "Before Updating Column\n",
            "        Fruit   Color  Price\n",
            "0       Apple     Red     45\n",
            "1     Avacado   Green     90\n",
            "2      Banana  Yellow     60\n",
            "3  Strawberry    Pink     37\n",
            "4       Grape   Green     49\n",
            "After Updating Column\n",
            "   Fruit Name   Color  Cost\n",
            "0       Apple     Red    45\n",
            "1     Avacado   Green    90\n",
            "2      Banana  Yellow    60\n",
            "3  Strawberry    Pink    37\n",
            "4       Grape   Green    49\n"
          ]
        }
      ]
    },
    {
      "cell_type": "code",
      "source": [
        "#Updating the case of the column names\n",
        "\n",
        "\n",
        "#create a dictionary\n",
        "import pandas as pd\n",
        "fruit_data = {\"Fruit\": ['Apple','Avacado','Banana','Strawberry','Grape'],\"Color\":\n",
        "['Red','Green','Yellow','Pink','Green'],\n",
        "\"Price\": [45, 90, 60, 37, 49]\n",
        "}\n",
        "#Dataframe\n",
        "data = pd.DataFrame(fruit_data)\n",
        "print(\"Before Updating Column\")\n",
        "print(data)\n",
        "#lower case\n",
        "data.columns=data.columns.str.lower()\n",
        "print(\"After Updating Column\")\n",
        "print(data)\n"
      ],
      "metadata": {
        "colab": {
          "base_uri": "https://localhost:8080/"
        },
        "id": "OCplRO2mdF3f",
        "outputId": "a55d7871-eb4e-495c-89b9-23b60a14751a"
      },
      "execution_count": 10,
      "outputs": [
        {
          "output_type": "stream",
          "name": "stdout",
          "text": [
            "Before Updating Column\n",
            "        Fruit   Color  Price\n",
            "0       Apple     Red     45\n",
            "1     Avacado   Green     90\n",
            "2      Banana  Yellow     60\n",
            "3  Strawberry    Pink     37\n",
            "4       Grape   Green     49\n",
            "After Updating Column\n",
            "        fruit   color  price\n",
            "0       Apple     Red     45\n",
            "1     Avacado   Green     90\n",
            "2      Banana  Yellow     60\n",
            "3  Strawberry    Pink     37\n",
            "4       Grape   Green     49\n"
          ]
        }
      ]
    },
    {
      "cell_type": "code",
      "source": [
        "#Updating Row Values\n",
        "\n",
        "#create a dictionary\n",
        "import pandas as pd\n",
        "fruit_data = {\"Fruit\": ['Apple','Avacado','Banana','Strawberry','Grape'],\"Color\":\n",
        "['Red','Green','Yellow','Pink','Green'],\n",
        "\"Price\": [45, 90, 60, 37, 49]\n",
        "}\n",
        "#Dataframe\n",
        "data = pd.DataFrame(fruit_data)\n",
        "print(\"Original Dataset\")\n",
        "print(data)\n",
        "print(\"Display 4th row Value\")\n",
        "print(data.loc[3]) # fetch the data of row at index 3"
      ],
      "metadata": {
        "colab": {
          "base_uri": "https://localhost:8080/"
        },
        "id": "Kb9zxWkxdfh4",
        "outputId": "9d1728b1-0d1f-4239-f2a4-7ebff1432ad7"
      },
      "execution_count": 11,
      "outputs": [
        {
          "output_type": "stream",
          "name": "stdout",
          "text": [
            "Original Dataset\n",
            "        Fruit   Color  Price\n",
            "0       Apple     Red     45\n",
            "1     Avacado   Green     90\n",
            "2      Banana  Yellow     60\n",
            "3  Strawberry    Pink     37\n",
            "4       Grape   Green     49\n",
            "Display 4th row Value\n",
            "Fruit    Strawberry\n",
            "Color          Pink\n",
            "Price            37\n",
            "Name: 3, dtype: object\n"
          ]
        }
      ]
    },
    {
      "cell_type": "code",
      "source": [
        "#create a dictionary\n",
        "import pandas as pd\n",
        "fruit_data = {\"Fruit\": ['Apple','Avacado','Banana','Strawberry','Grape'],\"Color\":\n",
        "['Red','Green','Yellow','Pink','Green'],\n",
        "\"Price\": [45, 90, 60, 37, 49]\n",
        "}\n",
        "#Dataframe\n",
        "data = pd.DataFrame(fruit_data)\n",
        "print(\"Original Dataset\")\n",
        "print(data)\n",
        "#update\n",
        "data.loc[3] = ['PineApple','Yellow',48]\n",
        "print(\"After Updating Values\")\n",
        "print(data)"
      ],
      "metadata": {
        "colab": {
          "base_uri": "https://localhost:8080/"
        },
        "id": "UyUUXJ6gdmzf",
        "outputId": "716c662c-8227-4a76-e252-78c12a54614b"
      },
      "execution_count": 12,
      "outputs": [
        {
          "output_type": "stream",
          "name": "stdout",
          "text": [
            "Original Dataset\n",
            "        Fruit   Color  Price\n",
            "0       Apple     Red     45\n",
            "1     Avacado   Green     90\n",
            "2      Banana  Yellow     60\n",
            "3  Strawberry    Pink     37\n",
            "4       Grape   Green     49\n",
            "After Updating Values\n",
            "       Fruit   Color  Price\n",
            "0      Apple     Red     45\n",
            "1    Avacado   Green     90\n",
            "2     Banana  Yellow     60\n",
            "3  PineApple  Yellow     48\n",
            "4      Grape   Green     49\n"
          ]
        }
      ]
    },
    {
      "cell_type": "code",
      "source": [
        "import pandas as pd\n",
        "fruit_data = {\"Fruit\": ['Apple','Avacado','Banana','Strawberry','Grape'],\"Color\":\n",
        "['Red','Green','Yellow','Pink','Green'],\n",
        "\"Price\": [45, 90, 60, 37, 49]\n",
        "}\n",
        "#Dataframe\n",
        "data = pd.DataFrame(fruit_data)\n",
        "print(data.loc[3, ['Price']])"
      ],
      "metadata": {
        "colab": {
          "base_uri": "https://localhost:8080/"
        },
        "id": "aCcix5ESdzCI",
        "outputId": "4a8053c7-35dd-4d53-cde4-dc4c2dfe9649"
      },
      "execution_count": 13,
      "outputs": [
        {
          "output_type": "stream",
          "name": "stdout",
          "text": [
            "Price    37\n",
            "Name: 3, dtype: object\n"
          ]
        }
      ]
    },
    {
      "cell_type": "code",
      "source": [
        "#Now, to update only the price of the fruit located in the 4th row, that is index 3, we need\n",
        "#to change 37 to 65.\n",
        "\n",
        "\n",
        "#create a dictionary\n",
        "import pandas as pd\n",
        "fruit_data = {\"Fruit\": ['Apple','Avacado','Banana','Strawberry','Grape'],\"Color\":\n",
        "['Red','Green','Yellow','Pink','Green'],\n",
        "\"Price\": [45, 90, 60, 37, 49]\n",
        "}\n",
        "#Dataframe\n",
        "data = pd.DataFrame(fruit_data)\n",
        "print(\"Original Dataset\")\n",
        "print(data)\n",
        "#updating\n",
        "data.loc[3, ['Price']] = [65]\n",
        "print(\"After Updating Values\")\n",
        "print(data)"
      ],
      "metadata": {
        "colab": {
          "base_uri": "https://localhost:8080/"
        },
        "id": "toxaYgs9d8wf",
        "outputId": "fcb37042-40d6-4566-fc9c-78c81394ee96"
      },
      "execution_count": 14,
      "outputs": [
        {
          "output_type": "stream",
          "name": "stdout",
          "text": [
            "Original Dataset\n",
            "        Fruit   Color  Price\n",
            "0       Apple     Red     45\n",
            "1     Avacado   Green     90\n",
            "2      Banana  Yellow     60\n",
            "3  Strawberry    Pink     37\n",
            "4       Grape   Green     49\n",
            "After Updating Values\n",
            "        Fruit   Color  Price\n",
            "0       Apple     Red     45\n",
            "1     Avacado   Green     90\n",
            "2      Banana  Yellow     60\n",
            "3  Strawberry    Pink     65\n",
            "4       Grape   Green     49\n"
          ]
        }
      ]
    },
    {
      "cell_type": "code",
      "source": [
        "#Update rows and columns based on condition\n",
        "\n",
        "#create a dictionary\n",
        "import pandas as pd\n",
        "fruit_data = {\"Fruit\": ['Apple','Avacado','Banana','Strawberry','Grape'],\"Color\":\n",
        "['Red','Green','Yellow','Pink','Green'],\n",
        "\"Price\": [45, 90, 65, 37, 49]\n",
        "}\n",
        "#Dataframe\n",
        "data = pd.DataFrame(fruit_data)\n",
        "print(\"Original Dataset\")\n",
        "print(data)\n",
        "#Updating\n",
        "data.loc[data['Price'] >60, 'Remarks'] = 'Expensive'\n",
        "data.loc[data['Price'] <60, 'Remarks'] = 'Not Expensive'\n",
        "print(\"After Updating Values\")\n",
        "print(data)"
      ],
      "metadata": {
        "colab": {
          "base_uri": "https://localhost:8080/"
        },
        "id": "YAlgPMASeLLy",
        "outputId": "0a776f6b-4aa0-4bdd-f786-3662d4743a5c"
      },
      "execution_count": 15,
      "outputs": [
        {
          "output_type": "stream",
          "name": "stdout",
          "text": [
            "Original Dataset\n",
            "        Fruit   Color  Price\n",
            "0       Apple     Red     45\n",
            "1     Avacado   Green     90\n",
            "2      Banana  Yellow     65\n",
            "3  Strawberry    Pink     37\n",
            "4       Grape   Green     49\n",
            "After Updating Values\n",
            "        Fruit   Color  Price        Remarks\n",
            "0       Apple     Red     45  Not Expensive\n",
            "1     Avacado   Green     90      Expensive\n",
            "2      Banana  Yellow     65      Expensive\n",
            "3  Strawberry    Pink     37  Not Expensive\n",
            "4       Grape   Green     49  Not Expensive\n"
          ]
        }
      ]
    },
    {
      "cell_type": "code",
      "source": [
        "#Delete a single row:\n",
        "\n",
        "import pandas as pd\n",
        "# Create a sample employee DataFrame\n",
        "data = {\n",
        "'EmployeeID': [101, 102, 103, 104, 105],\n",
        "'Name': ['Alice', 'Bob', 'Charlie', 'David', 'Eve'],\n",
        "'Age': [28, 32, 29, 35, 26]\n",
        "}\n",
        "df = pd.DataFrame(data)\n",
        "# Display the initial DataFrame\n",
        "print(\"Initial DataFrame:\")\n",
        "print(df)\n",
        "# Let's say you want to delete the row for the employee named 'Charlie'\n",
        "employee_to_delete = 'Charlie'\n",
        "# Use the .loc property to delete the row based on the employee's name\n",
        "df = df.loc[df['Name'] != employee_to_delete]\n",
        "# Display the DataFrame after deleting the row\n",
        "print(\"\\nDataFrame after deleting the row for 'Charlie':\")\n",
        "print(df)"
      ],
      "metadata": {
        "colab": {
          "base_uri": "https://localhost:8080/"
        },
        "id": "eWzqQ3xfeTU0",
        "outputId": "7449fee0-7436-4c6a-9718-41187d08eba0"
      },
      "execution_count": 16,
      "outputs": [
        {
          "output_type": "stream",
          "name": "stdout",
          "text": [
            "Initial DataFrame:\n",
            "   EmployeeID     Name  Age\n",
            "0         101    Alice   28\n",
            "1         102      Bob   32\n",
            "2         103  Charlie   29\n",
            "3         104    David   35\n",
            "4         105      Eve   26\n",
            "\n",
            "DataFrame after deleting the row for 'Charlie':\n",
            "   EmployeeID   Name  Age\n",
            "0         101  Alice   28\n",
            "1         102    Bob   32\n",
            "3         104  David   35\n",
            "4         105    Eve   26\n"
          ]
        }
      ]
    },
    {
      "cell_type": "code",
      "source": [
        "#Delete a Column\n",
        "\n",
        "import pandas as pd\n",
        "# Create a sample employee DataFrame\n",
        "data = {\n",
        "'EmployeeID': [101, 102, 103, 104, 105],\n",
        "'Name': ['Alice', 'Bob', 'Charlie', 'David', 'Eve'],\n",
        "'Age': [28, 32, 29, 35, 26],\n",
        "'Photo': ['photo1.jpg', 'photo2.jpg', 'photo3.jpg', 'photo4.jpg', 'photo5.jpg']\n",
        "}\n",
        "df = pd.DataFrame(data)\n",
        "# Display the initial DataFrame\n",
        "print(\"Initial DataFrame:\")\n",
        "print(df)\n",
        "# Delete the 'Photo' column (employee photos are no longer needed)\n",
        "df = df.drop('Photo', axis=1)\n",
        "# Display the DataFrame after deleting the column\n",
        "print(\"\\nDataFrame after deleting the 'Photo' column:\")\n",
        "print(df)\n"
      ],
      "metadata": {
        "colab": {
          "base_uri": "https://localhost:8080/"
        },
        "id": "Qz5F70PGebID",
        "outputId": "3d870cfd-e3cd-4f44-b51a-d57ef82f47e3"
      },
      "execution_count": 17,
      "outputs": [
        {
          "output_type": "stream",
          "name": "stdout",
          "text": [
            "Initial DataFrame:\n",
            "   EmployeeID     Name  Age       Photo\n",
            "0         101    Alice   28  photo1.jpg\n",
            "1         102      Bob   32  photo2.jpg\n",
            "2         103  Charlie   29  photo3.jpg\n",
            "3         104    David   35  photo4.jpg\n",
            "4         105      Eve   26  photo5.jpg\n",
            "\n",
            "DataFrame after deleting the 'Photo' column:\n",
            "   EmployeeID     Name  Age\n",
            "0         101    Alice   28\n",
            "1         102      Bob   32\n",
            "2         103  Charlie   29\n",
            "3         104    David   35\n",
            "4         105      Eve   26\n"
          ]
        }
      ]
    },
    {
      "cell_type": "code",
      "source": [
        "#Delete a row based on condition\n",
        "\n"
      ],
      "metadata": {
        "colab": {
          "base_uri": "https://localhost:8080/"
        },
        "id": "BqkRNVSVeuFI",
        "outputId": "757a2109-6b0f-43c9-914b-7be6002a5ffd"
      },
      "execution_count": 18,
      "outputs": [
        {
          "output_type": "stream",
          "name": "stdout",
          "text": [
            "Initial DataFrame:\n",
            "   OrderID Product  Quantity    Status\n",
            "0      101  Widget        10   Shipped\n",
            "1      102  Gadget         5  Canceled\n",
            "2      103  Widget         0  Canceled\n",
            "3      104  Doodad         7   Shipped\n",
            "4      105  Widget        15   Shipped\n",
            "\n",
            "DataFrame after deleting 'Canceled' orders:\n",
            "   OrderID Product  Quantity   Status\n",
            "0      101  Widget        10  Shipped\n",
            "3      104  Doodad         7  Shipped\n",
            "4      105  Widget        15  Shipped\n"
          ]
        }
      ]
    },
    {
      "cell_type": "code",
      "source": [
        "\n",
        "import pandas as pd\n",
        "\n",
        "# Sample weather data (replace with your actual data)\n",
        "data = {\n",
        "    'Date': pd.to_datetime(['2023-11-15', '2023-11-16', '2023-11-17']),\n",
        "    'Temperature': [25, 22, 20],  # in Celsius\n",
        "    'Humidity': [60, 75, 80],  # in percentage\n",
        "    'Precipitation': [0, 5, 2]  # in millimeters\n",
        "}\n",
        "\n",
        "# Create the DataFrame\n",
        "weather_df = pd.DataFrame(data)\n",
        "\n",
        "# Set 'Date' as the index\n",
        "weather_df.set_index('Date', inplace=True)\n",
        "\n",
        "# Display the DataFrame\n",
        "print(weather_df)\n"
      ],
      "metadata": {
        "colab": {
          "base_uri": "https://localhost:8080/"
        },
        "id": "rc7B138Je642",
        "outputId": "f99c4d0e-4b56-498b-f99e-bf45f9b9cd14"
      },
      "execution_count": 20,
      "outputs": [
        {
          "output_type": "stream",
          "name": "stdout",
          "text": [
            "            Temperature  Humidity  Precipitation\n",
            "Date                                            \n",
            "2023-11-15           25        60              0\n",
            "2023-11-16           22        75              5\n",
            "2023-11-17           20        80              2\n"
          ]
        }
      ]
    }
  ]
}